{
 "cells": [
  {
   "cell_type": "markdown",
   "metadata": {},
   "source": [
    "## References\n",
    "- https://medium.com/scrapehero/exploring-image-similarity-approaches-in-python-b8ca0a3ed5a3"
   ]
  },
  {
   "cell_type": "code",
   "execution_count": 408,
   "metadata": {},
   "outputs": [],
   "source": [
    "import cv2 as cv\n",
    "import numpy as np\n",
    "from skimage import metrics\n",
    "\n",
    "DELAY_CAPTION = 1500\n",
    "DELAY_BLUR = 100\n",
    "MAX_KERNEL_LENGTH = 31\n",
    "SHOULD_DISPLAY = False\n",
    "\n",
    "window_name = \"Smoothing Demo\"\n",
    "cv.namedWindow(window_name, cv.WINDOW_AUTOSIZE)\n",
    "\n",
    "def display_dst(delay, dst, name = window_name):\n",
    "    if SHOULD_DISPLAY:\n",
    "        cv.imshow(name, dst)\n",
    "        c = cv.waitKey(delay)\n",
    "        if c >= 0 : return -1\n",
    "        return 0\n",
    "    else:\n",
    "        # save image\n",
    "        cv.imwrite(name + \".png\", dst)\n",
    "\n",
    "\n",
    "\n",
    "\n",
    "def display_caption(src, caption):\n",
    "    dst = np.zeros(src.shape, src.dtype)\n",
    "\n",
    "    rows, cols, _ch = src.shape\n",
    "    cv.putText(dst, caption,\n",
    "                (int(cols / 4), int(rows / 2)),\n",
    "                cv.FONT_HERSHEY_COMPLEX, 1, (255, 255, 255))\n",
    "    return display_dst(DELAY_CAPTION)"
   ]
  },
  {
   "cell_type": "markdown",
   "metadata": {},
   "source": [
    "### Read images "
   ]
  },
  {
   "cell_type": "code",
   "execution_count": 409,
   "metadata": {},
   "outputs": [],
   "source": [
    "image = cv.imread(\"./xray.png\")\n",
    "clear = cv.imread(\"./clear.png\")\n",
    "dst = np.copy(image)"
   ]
  },
  {
   "cell_type": "markdown",
   "metadata": {},
   "source": [
    "### Denoising Functions"
   ]
  },
  {
   "cell_type": "code",
   "execution_count": 410,
   "metadata": {},
   "outputs": [],
   "source": [
    "def apply_mean_filter(src):\n",
    "    dst = cv.blur(src, (MAX_KERNEL_LENGTH, MAX_KERNEL_LENGTH))\n",
    "    if display_dst(DELAY_BLUR, dst, \"Mean\",) != 0:\n",
    "        return dst"
   ]
  },
  {
   "cell_type": "code",
   "execution_count": 411,
   "metadata": {},
   "outputs": [],
   "source": [
    "def apply_gaussian_blur(src):\n",
    "  dst = cv.GaussianBlur(src, (MAX_KERNEL_LENGTH, MAX_KERNEL_LENGTH), 0)\n",
    "  if display_dst(DELAY_BLUR, dst, \"Gaussian\") != 0:\n",
    "    return dst"
   ]
  },
  {
   "cell_type": "code",
   "execution_count": 412,
   "metadata": {},
   "outputs": [],
   "source": [
    "def apply_median_filter(src):\n",
    "    dst = cv.medianBlur(src, MAX_KERNEL_LENGTH)\n",
    "    if display_dst(DELAY_BLUR, dst, \"Median\") != 0:\n",
    "        return dst"
   ]
  },
  {
   "cell_type": "code",
   "execution_count": 413,
   "metadata": {},
   "outputs": [],
   "source": [
    "def apply_bilateral_filter(src):\n",
    "    dst = cv.bilateralFilter(src, MAX_KERNEL_LENGTH, MAX_KERNEL_LENGTH * 2, MAX_KERNEL_LENGTH / 2)\n",
    "    if display_dst(DELAY_BLUR, dst, \"Bilateral\") != 0:\n",
    "        return dst"
   ]
  },
  {
   "cell_type": "markdown",
   "metadata": {},
   "source": [
    "## Use SSIM to evaluate the similarity of the image"
   ]
  },
  {
   "cell_type": "code",
   "execution_count": 414,
   "metadata": {},
   "outputs": [],
   "source": [
    "def calculate_similarity(src, dst):\n",
    "\n",
    "  # Convert images to grayscale\n",
    "  image1_gray = cv.cvtColor(src, cv.COLOR_BGR2GRAY)\n",
    "  image2_gray = cv.cvtColor(dst, cv.COLOR_BGR2GRAY)\n",
    "  # Calculate SSIM\n",
    "  ssim_score = metrics.structural_similarity(image1_gray, image2_gray, full=True)\n",
    "  return ssim_score[0]\n",
    "\n",
    "\n",
    "  src_hist = cv.calcHist([src], [0, 1, 2], None, [256, 256, 256], [0, 256, 0, 256, 0, 256])\n",
    "  dst_hist = cv.calcHist([dst], [0, 1, 2], None, [256, 256, 256], [0, 256, 0, 256, 0, 256])\n",
    "\n",
    "\n",
    "  src_hist[255, 255, 255] = 0 #ignore all white pixels\n",
    "  dst_hist[255, 255, 255] = 0 #ignore all white pixels\n",
    "\n",
    "  cv.normalize(src_hist, src_hist, alpha=0, beta=1, norm_type=cv.NORM_MINMAX)\n",
    "  cv.normalize(dst_hist, dst_hist, alpha=0, beta=1, norm_type=cv.NORM_MINMAX)\n",
    "\n",
    "  metric_val = cv.compareHist(src_hist, dst_hist, cv.HISTCMP_CORREL)\n",
    "\n",
    "  return metric_val\n",
    "  "
   ]
  },
  {
   "cell_type": "code",
   "execution_count": 415,
   "metadata": {},
   "outputs": [],
   "source": [
    "bilateral_dst = apply_bilateral_filter(image)\n",
    "mean_dst = apply_mean_filter(image)\n",
    "gaussian_dst = apply_gaussian_blur(image)\n",
    "median_dst = apply_median_filter(image)"
   ]
  },
  {
   "cell_type": "code",
   "execution_count": 416,
   "metadata": {},
   "outputs": [
    {
     "name": "stdout",
     "output_type": "stream",
     "text": [
      "Bilateral Similarity:  0.44838959289787944\n",
      "Mean Similarity:  0.20774828799463957\n",
      "Gaussian Similarity:  0.32135118083922637\n",
      "Median Similarity:  0.3042781463872747\n",
      "No Filter Similarity:  0.39772297421514735\n"
     ]
    }
   ],
   "source": [
    "bilateral_similarity = calculate_similarity(clear, bilateral_dst)\n",
    "mean_similarity = calculate_similarity(clear, mean_dst)\n",
    "gaussian_similarity = calculate_similarity(clear, gaussian_dst)\n",
    "median_similarity = calculate_similarity(clear, median_dst)\n",
    "default_similarity = calculate_similarity(clear, image)\n",
    "\n",
    "print(\"Bilateral Similarity: \", bilateral_similarity)\n",
    "print(\"Mean Similarity: \", mean_similarity)\n",
    "print(\"Gaussian Similarity: \", gaussian_similarity)\n",
    "print(\"Median Similarity: \", median_similarity)\n",
    "print(\"No Filter Similarity: \", default_similarity)\n",
    "\n",
    "cv.destroyAllWindows()"
   ]
  },
  {
   "cell_type": "markdown",
   "metadata": {},
   "source": [
    "### Get best similarity"
   ]
  },
  {
   "cell_type": "code",
   "execution_count": 417,
   "metadata": {},
   "outputs": [
    {
     "name": "stdout",
     "output_type": "stream",
     "text": [
      "Best method:  Bilateral\n",
      "Best method score:  0.44838959289787944\n",
      "Worst method:  Mean\n",
      "Worst method score:  0.20774828799463957\n"
     ]
    }
   ],
   "source": [
    "scores = [\n",
    "\t(\n",
    "\t\t\"No Filter\",\n",
    "\t\tdefault_similarity\n",
    "\t),\n",
    "\t(\n",
    "\t\t\"Bilateral\",\n",
    "\t\tbilateral_similarity\n",
    "\t),\n",
    "\t(\n",
    "\t\t\"Mean\",\n",
    "\t\tmean_similarity\n",
    "\t),\n",
    "\t(\n",
    "\t\t\"Gaussian\",\n",
    "\t\tgaussian_similarity\n",
    "\t),\n",
    "\t(\n",
    "\t\t\"Median\",\n",
    "\t\tmedian_similarity\n",
    "\t)\n",
    "]\n",
    "\n",
    "scores.sort(key=lambda x: x[1], reverse=True)\n",
    "\n",
    "print(\"Best method: \", scores[0][0])\n",
    "print(\"Best method score: \", scores[0][1])\n",
    "\n",
    "print(\"Worst method: \", scores[-1][0])\n",
    "print(\"Worst method score: \", scores[-1][1])\n"
   ]
  },
  {
   "cell_type": "markdown",
   "metadata": {},
   "source": [
    "The best denoising method for this case is the **bilateral filter**. I think this is the best method because it is the one that best preserves the edges of the image in contrast to the other methods. "
   ]
  }
 ],
 "metadata": {
  "kernelspec": {
   "display_name": "venv",
   "language": "python",
   "name": "python3"
  },
  "language_info": {
   "codemirror_mode": {
    "name": "ipython",
    "version": 3
   },
   "file_extension": ".py",
   "mimetype": "text/x-python",
   "name": "python",
   "nbconvert_exporter": "python",
   "pygments_lexer": "ipython3",
   "version": "3.11.2"
  }
 },
 "nbformat": 4,
 "nbformat_minor": 2
}
